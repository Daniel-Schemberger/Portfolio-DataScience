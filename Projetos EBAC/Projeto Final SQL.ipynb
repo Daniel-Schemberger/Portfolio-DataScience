{
 "cells": [
  {
   "cell_type": "markdown",
   "metadata": {},
   "source": [
    "# Projeto Final - SQL para Análise de Dados\n",
    "\n",
    "* O  seguinte notebook faz parte do curso SQL para Análise de Dados, como parte do curso de Cientista de Dados da EBAC.\n",
    "\n",
    "* Temos como objetivo analisar uma base de dados, armazenado no AWS S3, com informações bancárias, visando gerar insights gerais utilizando queries SQL com Amazon Athena.\n",
    "\n",
    "* Para fazer o carregamento dos dados a partir das queries e criar as visualiações, utilizamos as seguintes bibliotecas:"
   ]
  },
  {
   "cell_type": "code",
   "execution_count": 2,
   "metadata": {},
   "outputs": [],
   "source": [
    "import pandas as pd\n",
    "import matplotlib.pyplot as plt\n",
    "import seaborn as sns"
   ]
  },
  {
   "cell_type": "markdown",
   "metadata": {},
   "source": [
    "## 1 ) Carregamento dos dados:"
   ]
  },
  {
   "cell_type": "markdown",
   "metadata": {},
   "source": [
    "Inicialmente foi criado um bucket 'ebacprojfinal' utilizando o sistema de armazenamento S3, no qual os dados foram armazenados. Em seguida, criamos uma tabela contendo os dados utilizando o Amazon Athena:"
   ]
  },
  {
   "cell_type": "markdown",
   "metadata": {},
   "source": [
    "* Código para criação da tabela:"
   ]
  },
  {
   "cell_type": "markdown",
   "metadata": {},
   "source": [
    "\n",
    "```sql\n",
    "CREATE EXTERNAL TABLE IF NOT EXISTS default.credito ( \n",
    "  `idade` int,\n",
    "  `sexo` string,\n",
    "  `dependentes` int,\n",
    "  `escolaridade` string,\n",
    "  `estado_civil` string,\n",
    "  `salario_anual` string,\n",
    "  `tipo_cartao` string, \n",
    "  `qtd_produtos` bigint,\n",
    "  `iteracoes_12m` int,\n",
    "  `meses_inativo_12m` int,\n",
    "  `limite_credito` float,\n",
    "  `valor_transacoes_12m` float,\n",
    "  `qtd_transacoes_12m` int \n",
    ")\n",
    "ROW FORMAT SERDE 'org.apache.hadoop.hive.serde2.lazy.LazySimpleSerDe'\n",
    "WITH SERDEPROPERTIES (\n",
    "  'serialization.format' = ',',\n",
    "  'field.delim' = ','\n",
    ") LOCATION <sua-localizacao>\n",
    "TBLPROPERTIES ('has_encrypted_data'='false');\n",
    "```"
   ]
  },
  {
   "cell_type": "markdown",
   "metadata": {},
   "source": [
    "* Informações sobre os tipos de dados podem ser obtidos com:"
   ]
  },
  {
   "cell_type": "markdown",
   "metadata": {},
   "source": [
    "\n",
    "```sql\n",
    "DESCRIBE credito;"
   ]
  },
  {
   "cell_type": "markdown",
   "metadata": {},
   "source": [
    "Resultado da query: \n",
    "\n",
    "idade               \tint                 \t                    \n",
    "sexo                \tstring              \t                    \n",
    "dependentes         \tint                 \t                    \n",
    "escolaridade        \tstring              \t                    \n",
    "estado_civil        \tstring              \t                    \n",
    "salario_anual       \tstring              \t                    \n",
    "tipo_cartao         \tstring              \t                    \n",
    "qtd_produtos        \tbigint              \t                    \n",
    "iteracoes_12m       \tint                 \t                    \n",
    "meses_inativo_12m   \tint                 \t                    \n",
    "limite_credito      \tfloat               \t                    \n",
    "valor_transacoes_12m\tfloat               \t                    \n",
    "qtd_transacoes_12m  \tint  "
   ]
  },
  {
   "cell_type": "markdown",
   "metadata": {},
   "source": [
    "* Obtendo o número total de linhas na tabela:"
   ]
  },
  {
   "cell_type": "markdown",
   "metadata": {},
   "source": [
    "```sql\n",
    "SELECT COUNT(*) AS total_de_linhas FROM credito;"
   ]
  },
  {
   "cell_type": "markdown",
   "metadata": {},
   "source": [
    "Resultado da query:\n",
    "\n",
    "2564"
   ]
  },
  {
   "cell_type": "markdown",
   "metadata": {},
   "source": [
    "## 2 ) Análise de Dados:"
   ]
  },
  {
   "cell_type": "markdown",
   "metadata": {},
   "source": [
    "Podemos extrair diversas informações relevantes, gerar insights poderosos, levantar hipóteses e testa-las através de queries da nossa tabela."
   ]
  },
  {
   "cell_type": "markdown",
   "metadata": {},
   "source": [
    "Por exemplo, existem 4 classes de cartões e podemos levantar a hipótese de que o valor médio de transações é mais alto para clientes com cartões mais exclusivos. Podemos testar esta hipótese com a seguinte query:"
   ]
  },
  {
   "cell_type": "markdown",
   "metadata": {},
   "source": [
    "```sql\n",
    "SELECT tipo_cartao, AVG(valor_transacoes_12m), STDDEV(valor_transacoes_12m) \n",
    "FROM credito \n",
    "GROUP BY tipo_cartao;"
   ]
  },
  {
   "cell_type": "markdown",
   "metadata": {},
   "source": [
    "Resultado da query:"
   ]
  },
  {
   "cell_type": "code",
   "execution_count": 5,
   "metadata": {},
   "outputs": [
    {
     "data": {
      "text/html": [
       "<div>\n",
       "<style scoped>\n",
       "    .dataframe tbody tr th:only-of-type {\n",
       "        vertical-align: middle;\n",
       "    }\n",
       "\n",
       "    .dataframe tbody tr th {\n",
       "        vertical-align: top;\n",
       "    }\n",
       "\n",
       "    .dataframe thead th {\n",
       "        text-align: right;\n",
       "    }\n",
       "</style>\n",
       "<table border=\"1\" class=\"dataframe\">\n",
       "  <thead>\n",
       "    <tr style=\"text-align: right;\">\n",
       "      <th></th>\n",
       "      <th>tipo_cartao</th>\n",
       "      <th>média</th>\n",
       "      <th>desvio</th>\n",
       "    </tr>\n",
       "  </thead>\n",
       "  <tbody>\n",
       "    <tr>\n",
       "      <th>0</th>\n",
       "      <td>blue</td>\n",
       "      <td>1816.7320</td>\n",
       "      <td>680.813134</td>\n",
       "    </tr>\n",
       "    <tr>\n",
       "      <th>1</th>\n",
       "      <td>gold</td>\n",
       "      <td>2040.2319</td>\n",
       "      <td>1012.541461</td>\n",
       "    </tr>\n",
       "    <tr>\n",
       "      <th>2</th>\n",
       "      <td>silver</td>\n",
       "      <td>1883.2498</td>\n",
       "      <td>828.830616</td>\n",
       "    </tr>\n",
       "    <tr>\n",
       "      <th>3</th>\n",
       "      <td>platinum</td>\n",
       "      <td>1543.2250</td>\n",
       "      <td>546.756163</td>\n",
       "    </tr>\n",
       "  </tbody>\n",
       "</table>\n",
       "</div>"
      ],
      "text/plain": [
       "  tipo_cartao      média       desvio\n",
       "0        blue  1816.7320   680.813134\n",
       "1        gold  2040.2319  1012.541461\n",
       "2      silver  1883.2498   828.830616\n",
       "3    platinum  1543.2250   546.756163"
      ]
     },
     "execution_count": 5,
     "metadata": {},
     "output_type": "execute_result"
    }
   ],
   "source": [
    "q1 = pd.read_csv('queries/query1.csv')\n",
    "q1.rename(columns= {'_col1': 'média', '_col2': 'desvio'}, inplace=True)\n",
    "q1"
   ]
  },
  {
   "cell_type": "markdown",
   "metadata": {},
   "source": [
    "Podemos notar que a média dos valores não tem uma variação significativa em relação ao tipo de cartão, descartando a hipótese anterior."
   ]
  },
  {
   "cell_type": "markdown",
   "metadata": {},
   "source": [
    "Analisando ainda o tipo do cartão, podemos ver que ele esta fortemente associado com o número de transações em um ano:"
   ]
  },
  {
   "cell_type": "markdown",
   "metadata": {},
   "source": [
    "```sql\n",
    "SELECT tipo_cartao, COUNT(iteracoes_12m) AS interacoes\n",
    "FROM credito \n",
    "GROUP BY tipo_cartao\n",
    "ORDER BY COUNT(iteracoes_12m) DESC;"
   ]
  },
  {
   "cell_type": "markdown",
   "metadata": {},
   "source": [
    "Resultado da query:"
   ]
  },
  {
   "cell_type": "code",
   "execution_count": 6,
   "metadata": {},
   "outputs": [
    {
     "data": {
      "text/html": [
       "<div>\n",
       "<style scoped>\n",
       "    .dataframe tbody tr th:only-of-type {\n",
       "        vertical-align: middle;\n",
       "    }\n",
       "\n",
       "    .dataframe tbody tr th {\n",
       "        vertical-align: top;\n",
       "    }\n",
       "\n",
       "    .dataframe thead th {\n",
       "        text-align: right;\n",
       "    }\n",
       "</style>\n",
       "<table border=\"1\" class=\"dataframe\">\n",
       "  <thead>\n",
       "    <tr style=\"text-align: right;\">\n",
       "      <th></th>\n",
       "      <th>tipo_cartao</th>\n",
       "      <th>interacoes</th>\n",
       "    </tr>\n",
       "  </thead>\n",
       "  <tbody>\n",
       "    <tr>\n",
       "      <th>0</th>\n",
       "      <td>blue</td>\n",
       "      <td>2453</td>\n",
       "    </tr>\n",
       "    <tr>\n",
       "      <th>1</th>\n",
       "      <td>silver</td>\n",
       "      <td>93</td>\n",
       "    </tr>\n",
       "    <tr>\n",
       "      <th>2</th>\n",
       "      <td>gold</td>\n",
       "      <td>16</td>\n",
       "    </tr>\n",
       "    <tr>\n",
       "      <th>3</th>\n",
       "      <td>platinum</td>\n",
       "      <td>2</td>\n",
       "    </tr>\n",
       "  </tbody>\n",
       "</table>\n",
       "</div>"
      ],
      "text/plain": [
       "  tipo_cartao  interacoes\n",
       "0        blue        2453\n",
       "1      silver          93\n",
       "2        gold          16\n",
       "3    platinum           2"
      ]
     },
     "execution_count": 6,
     "metadata": {},
     "output_type": "execute_result"
    }
   ],
   "source": [
    "q2 = pd.read_csv('queries/query2.csv')\n",
    "q2"
   ]
  },
  {
   "cell_type": "markdown",
   "metadata": {},
   "source": [
    "Podemos ter interesse em detectar qual perfil realiza mais transações em um ano, é possível obter esta informação em relação a diversas variáveis, como por exemplo o nível de escolaridade:"
   ]
  },
  {
   "cell_type": "markdown",
   "metadata": {},
   "source": [
    "```sql\n",
    "SELECT escolaridade, COUNT(iteracoes_12m) AS iteracoes\n",
    "FROM credito GROUP BY escolaridade\n",
    "ORDER BY COUNT(iteracoes_12m) DESC;"
   ]
  },
  {
   "cell_type": "markdown",
   "metadata": {},
   "source": [
    "Resultado da query:"
   ]
  },
  {
   "cell_type": "code",
   "execution_count": 7,
   "metadata": {},
   "outputs": [
    {
     "data": {
      "text/html": [
       "<div>\n",
       "<style scoped>\n",
       "    .dataframe tbody tr th:only-of-type {\n",
       "        vertical-align: middle;\n",
       "    }\n",
       "\n",
       "    .dataframe tbody tr th {\n",
       "        vertical-align: top;\n",
       "    }\n",
       "\n",
       "    .dataframe thead th {\n",
       "        text-align: right;\n",
       "    }\n",
       "</style>\n",
       "<table border=\"1\" class=\"dataframe\">\n",
       "  <thead>\n",
       "    <tr style=\"text-align: right;\">\n",
       "      <th></th>\n",
       "      <th>escolaridade</th>\n",
       "      <th>iteracoes</th>\n",
       "    </tr>\n",
       "  </thead>\n",
       "  <tbody>\n",
       "    <tr>\n",
       "      <th>0</th>\n",
       "      <td>mestrado</td>\n",
       "      <td>810</td>\n",
       "    </tr>\n",
       "    <tr>\n",
       "      <th>1</th>\n",
       "      <td>ensino medio</td>\n",
       "      <td>545</td>\n",
       "    </tr>\n",
       "    <tr>\n",
       "      <th>2</th>\n",
       "      <td>sem educacao formal</td>\n",
       "      <td>367</td>\n",
       "    </tr>\n",
       "    <tr>\n",
       "      <th>3</th>\n",
       "      <td>na</td>\n",
       "      <td>346</td>\n",
       "    </tr>\n",
       "    <tr>\n",
       "      <th>4</th>\n",
       "      <td>graduacao</td>\n",
       "      <td>261</td>\n",
       "    </tr>\n",
       "    <tr>\n",
       "      <th>5</th>\n",
       "      <td>doutorado</td>\n",
       "      <td>235</td>\n",
       "    </tr>\n",
       "  </tbody>\n",
       "</table>\n",
       "</div>"
      ],
      "text/plain": [
       "          escolaridade  iteracoes\n",
       "0             mestrado        810\n",
       "1         ensino medio        545\n",
       "2  sem educacao formal        367\n",
       "3                   na        346\n",
       "4            graduacao        261\n",
       "5            doutorado        235"
      ]
     },
     "execution_count": 7,
     "metadata": {},
     "output_type": "execute_result"
    }
   ],
   "source": [
    "q3 = pd.read_csv('queries/query3.csv')\n",
    "q3"
   ]
  },
  {
   "cell_type": "code",
   "execution_count": 14,
   "metadata": {},
   "outputs": [
    {
     "data": {
      "image/png": "[encoded data removed]",
      "text/plain": [
       "<Figure size 640x480 with 1 Axes>"
      ]
     },
     "metadata": {},
     "output_type": "display_data"
    }
   ],
   "source": [
    "plt.title('Número de transações em um ano por escolaridade')\n",
    "sns.barplot(data=q3, x='escolaridade', y='iteracoes', palette='mako')\n",
    "plt.xticks(rotation=25)\n",
    "plt.show()"
   ]
  },
  {
   "cell_type": "markdown",
   "metadata": {},
   "source": [
    "Podemos notar que a escolaridade tem forte relação com o número de transações em um ano."
   ]
  },
  {
   "cell_type": "markdown",
   "metadata": {},
   "source": [
    "Digamos que a equipe de marketing precisa conhecer melhor os perfis de seus clientes para adequar sua campanha:"
   ]
  },
  {
   "cell_type": "markdown",
   "metadata": {},
   "source": [
    "```sql\n",
    "SELECT sexo, COUNT(*) AS contagem, MIN(idade) AS idade_minima, \n",
    "AVG(idade) AS media, MAX(idade) AS idade_maxima\n",
    "FROM credito GROUP BY sexo;"
   ]
  },
  {
   "cell_type": "markdown",
   "metadata": {},
   "source": [
    "Resultado da query:"
   ]
  },
  {
   "cell_type": "code",
   "execution_count": 15,
   "metadata": {},
   "outputs": [
    {
     "data": {
      "text/html": [
       "<div>\n",
       "<style scoped>\n",
       "    .dataframe tbody tr th:only-of-type {\n",
       "        vertical-align: middle;\n",
       "    }\n",
       "\n",
       "    .dataframe tbody tr th {\n",
       "        vertical-align: top;\n",
       "    }\n",
       "\n",
       "    .dataframe thead th {\n",
       "        text-align: right;\n",
       "    }\n",
       "</style>\n",
       "<table border=\"1\" class=\"dataframe\">\n",
       "  <thead>\n",
       "    <tr style=\"text-align: right;\">\n",
       "      <th></th>\n",
       "      <th>sexo</th>\n",
       "      <th>contagem</th>\n",
       "      <th>idade_minima</th>\n",
       "      <th>media</th>\n",
       "      <th>idade_maxima</th>\n",
       "    </tr>\n",
       "  </thead>\n",
       "  <tbody>\n",
       "    <tr>\n",
       "      <th>0</th>\n",
       "      <td>F</td>\n",
       "      <td>1001</td>\n",
       "      <td>26</td>\n",
       "      <td>46.429570</td>\n",
       "      <td>67</td>\n",
       "    </tr>\n",
       "    <tr>\n",
       "      <th>1</th>\n",
       "      <td>M</td>\n",
       "      <td>1563</td>\n",
       "      <td>26</td>\n",
       "      <td>45.573896</td>\n",
       "      <td>73</td>\n",
       "    </tr>\n",
       "  </tbody>\n",
       "</table>\n",
       "</div>"
      ],
      "text/plain": [
       "  sexo  contagem  idade_minima      media  idade_maxima\n",
       "0    F      1001            26  46.429570            67\n",
       "1    M      1563            26  45.573896            73"
      ]
     },
     "execution_count": 15,
     "metadata": {},
     "output_type": "execute_result"
    }
   ],
   "source": [
    "q4 = pd.read_csv('queries/query4.csv')\n",
    "q4"
   ]
  },
  {
   "cell_type": "code",
   "execution_count": 20,
   "metadata": {},
   "outputs": [
    {
     "data": {
      "text/plain": [
       "Text(0, 0.5, 'Porcentagem')"
      ]
     },
     "execution_count": 20,
     "metadata": {},
     "output_type": "execute_result"
    },
    {
     "data": {
      "image/png": "[encoded data removed]",
      "text/plain": [
       "<Figure size 640x480 with 1 Axes>"
      ]
     },
     "metadata": {},
     "output_type": "display_data"
    }
   ],
   "source": [
    "q4['prop'] = (q4['contagem']/q4['contagem'].sum())*100\n",
    "\n",
    "plt.title('Proporção de dados por sexo')\n",
    "sns.barplot(data=q4, x='sexo', y='prop')\n",
    "plt.ylabel('Porcentagem')"
   ]
  },
  {
   "cell_type": "markdown",
   "metadata": {},
   "source": [
    "Notamos um maior número de entradas de clientes do sexo masculino na nossa tabela, mas como é esta distribuição em função da escolaridade?"
   ]
  },
  {
   "cell_type": "markdown",
   "metadata": {},
   "source": [
    "```sql\n",
    "SELECT escolaridade,sexo, COUNT(*) AS contagem\n",
    "FROM credito GROUP BY escolaridade, sexo;"
   ]
  },
  {
   "cell_type": "markdown",
   "metadata": {},
   "source": [
    "Resultado da query:"
   ]
  },
  {
   "cell_type": "code",
   "execution_count": 21,
   "metadata": {},
   "outputs": [
    {
     "data": {
      "text/html": [
       "<div>\n",
       "<style scoped>\n",
       "    .dataframe tbody tr th:only-of-type {\n",
       "        vertical-align: middle;\n",
       "    }\n",
       "\n",
       "    .dataframe tbody tr th {\n",
       "        vertical-align: top;\n",
       "    }\n",
       "\n",
       "    .dataframe thead th {\n",
       "        text-align: right;\n",
       "    }\n",
       "</style>\n",
       "<table border=\"1\" class=\"dataframe\">\n",
       "  <thead>\n",
       "    <tr style=\"text-align: right;\">\n",
       "      <th></th>\n",
       "      <th>escolaridade</th>\n",
       "      <th>sexo</th>\n",
       "      <th>contagem</th>\n",
       "    </tr>\n",
       "  </thead>\n",
       "  <tbody>\n",
       "    <tr>\n",
       "      <th>0</th>\n",
       "      <td>ensino medio</td>\n",
       "      <td>F</td>\n",
       "      <td>197</td>\n",
       "    </tr>\n",
       "    <tr>\n",
       "      <th>1</th>\n",
       "      <td>doutorado</td>\n",
       "      <td>M</td>\n",
       "      <td>137</td>\n",
       "    </tr>\n",
       "    <tr>\n",
       "      <th>2</th>\n",
       "      <td>doutorado</td>\n",
       "      <td>F</td>\n",
       "      <td>98</td>\n",
       "    </tr>\n",
       "    <tr>\n",
       "      <th>3</th>\n",
       "      <td>sem educacao formal</td>\n",
       "      <td>M</td>\n",
       "      <td>210</td>\n",
       "    </tr>\n",
       "    <tr>\n",
       "      <th>4</th>\n",
       "      <td>na</td>\n",
       "      <td>M</td>\n",
       "      <td>215</td>\n",
       "    </tr>\n",
       "    <tr>\n",
       "      <th>5</th>\n",
       "      <td>sem educacao formal</td>\n",
       "      <td>F</td>\n",
       "      <td>157</td>\n",
       "    </tr>\n",
       "    <tr>\n",
       "      <th>6</th>\n",
       "      <td>na</td>\n",
       "      <td>F</td>\n",
       "      <td>131</td>\n",
       "    </tr>\n",
       "    <tr>\n",
       "      <th>7</th>\n",
       "      <td>ensino medio</td>\n",
       "      <td>M</td>\n",
       "      <td>348</td>\n",
       "    </tr>\n",
       "    <tr>\n",
       "      <th>8</th>\n",
       "      <td>mestrado</td>\n",
       "      <td>F</td>\n",
       "      <td>323</td>\n",
       "    </tr>\n",
       "    <tr>\n",
       "      <th>9</th>\n",
       "      <td>mestrado</td>\n",
       "      <td>M</td>\n",
       "      <td>487</td>\n",
       "    </tr>\n",
       "    <tr>\n",
       "      <th>10</th>\n",
       "      <td>graduacao</td>\n",
       "      <td>M</td>\n",
       "      <td>166</td>\n",
       "    </tr>\n",
       "    <tr>\n",
       "      <th>11</th>\n",
       "      <td>graduacao</td>\n",
       "      <td>F</td>\n",
       "      <td>95</td>\n",
       "    </tr>\n",
       "  </tbody>\n",
       "</table>\n",
       "</div>"
      ],
      "text/plain": [
       "           escolaridade sexo  contagem\n",
       "0          ensino medio    F       197\n",
       "1             doutorado    M       137\n",
       "2             doutorado    F        98\n",
       "3   sem educacao formal    M       210\n",
       "4                    na    M       215\n",
       "5   sem educacao formal    F       157\n",
       "6                    na    F       131\n",
       "7          ensino medio    M       348\n",
       "8              mestrado    F       323\n",
       "9              mestrado    M       487\n",
       "10            graduacao    M       166\n",
       "11            graduacao    F        95"
      ]
     },
     "execution_count": 21,
     "metadata": {},
     "output_type": "execute_result"
    }
   ],
   "source": [
    "q5 = pd.read_csv('queries/query5.csv')\n",
    "q5"
   ]
  },
  {
   "cell_type": "code",
   "execution_count": 23,
   "metadata": {},
   "outputs": [
    {
     "data": {
      "image/png": "[encoded data removed]",
      "text/plain": [
       "<Figure size 640x480 with 1 Axes>"
      ]
     },
     "metadata": {},
     "output_type": "display_data"
    }
   ],
   "source": [
    "plt.title('Número de transações em um ano por escolaridade')\n",
    "sns.barplot(data=q5, x='escolaridade', y='contagem', hue='sexo', palette='mako')\n",
    "plt.xticks(rotation=25)\n",
    "plt.show()"
   ]
  },
  {
   "cell_type": "markdown",
   "metadata": {},
   "source": [
    "Podemos concluir que este padrão de entradas se repete independente da escolaridade."
   ]
  },
  {
   "cell_type": "markdown",
   "metadata": {},
   "source": [
    "## 3 ) Conclusões:"
   ]
  },
  {
   "cell_type": "markdown",
   "metadata": {},
   "source": [
    "Podemos gerar mais insights e obter mais informações ampliando nossa análise, neste projeto de conclusão do curso SQL para Análise de Dados utilizamos os serviços S3 e Athena da Amazon e geramos alguns insights sobre os dados abordados que podem ser resumidos em:\n",
    "\n",
    "* Não existe variação significativa entre a média do valor de transações para diferentes tipos de cartão.\n",
    "\n",
    "* Os cartões menos exclusivos contém mais transações por ano.\n",
    "\n",
    "* O maior número de transações por ano esta associado a clientes com a escolaridade de 'Mestrado'.\n",
    "\n",
    "* Existem mais entradas de clientes do sexo masculino e esta afirmação é verdadeira para cada nível de escolarida."
   ]
  }
 ],
 "metadata": {
  "kernelspec": {
   "display_name": "Python 3",
   "language": "python",
   "name": "python3"
  },
  "language_info": {
   "codemirror_mode": {
    "name": "ipython",
    "version": 3
   },
   "file_extension": ".py",
   "mimetype": "text/x-python",
   "name": "python",
   "nbconvert_exporter": "python",
   "pygments_lexer": "ipython3",
   "version": "3.12.1"
  }
 },
 "nbformat": 4,
 "nbformat_minor": 2
}
