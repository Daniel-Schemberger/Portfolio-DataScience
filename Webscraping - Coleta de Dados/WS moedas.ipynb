{
 "cells": [
  {
   "attachments": {},
   "cell_type": "markdown",
   "metadata": {},
   "source": [
    "O objetivo do presente projeto é construir um script para Web Scraping e armazenamento do atual valor de diversas moedas em relação ao Real em gráficos interatívos no Google utilizando as bibliotecas Selenium e Beautiful Soup."
   ]
  },
  {
   "attachments": {},
   "cell_type": "markdown",
   "metadata": {},
   "source": [
    "Bibliotecas:"
   ]
  },
  {
   "cell_type": "code",
   "execution_count": 1,
   "metadata": {},
   "outputs": [],
   "source": [
    "from selenium import webdriver\n",
    "from selenium.webdriver.chrome.options import Options\n",
    "from selenium.webdriver.common.by import By \n",
    "from selenium.webdriver.common.keys import Keys\n",
    "\n",
    "import pandas as pd\n",
    "import requests\n",
    "from bs4 import BeautifulSoup"
   ]
  },
  {
   "attachments": {},
   "cell_type": "markdown",
   "metadata": {},
   "source": [
    "Abrindo na conexão com a página desejada:"
   ]
  },
  {
   "cell_type": "code",
   "execution_count": 2,
   "metadata": {},
   "outputs": [],
   "source": [
    "# criando uma instância das opções\n",
    "option = Options()\n",
    "\n",
    "# criando uma instância do WebDriver para o navegador Chrome\n",
    "driver = webdriver.Chrome(options=option)\n",
    "driver.get('https://www.google.com.br')\n",
    "\n",
    "# criando uma lista de moedas de interesse e uma de dados a ser preenchida\n",
    "moedas = ['dolar', 'euro', 'libra esterlina', 'iene', 'franco suiço', 'dolar canadense', 'yuan']\n",
    "dados = []\n"
   ]
  },
  {
   "attachments": {},
   "cell_type": "markdown",
   "metadata": {},
   "source": [
    "A estrutura For a seguir automatiza a pesquisa de cada moeda com Selenium, realiza um request das informações com o Request e obtem os valores desejados com Beautiful Soup, por fim armazenando na lista \"dados\"."
   ]
  },
  {
   "cell_type": "code",
   "execution_count": 3,
   "metadata": {},
   "outputs": [
    {
     "name": "stdout",
     "output_type": "stream",
     "text": [
      "['4,93 Reais', '5,28 Reais', '6,13 Reais', '0,035 Reais', '5,44 Reais', '3,67 Reais', '0,69 Reais']\n"
     ]
    }
   ],
   "source": [
    "# fazendo o request dos valores atuais e armazenando em uma lista de dados\n",
    "for i in moedas:\n",
    "    barra_pesquisa = driver.find_element(By.XPATH, '//textarea[@name=\"q\"]')\n",
    "    barra_pesquisa.send_keys(i + Keys.RETURN)\n",
    "\n",
    "    header = {'User-Agent':'Mozilla/5.0 (Windows NT 10.0; Win64; x64) AppleWebKit/537.36 (KHTML, like Gecko) Chrome/113.0.0.0 Safari/537.36'}\n",
    "\n",
    "    page = requests.get(driver.current_url, headers=header)\n",
    "    soup = BeautifulSoup(page.content, 'html.parser')\n",
    "    valor = soup.find_all('span', class_=\"DFlfde SwHCTb\")[0]\n",
    "\n",
    "    dados.append(valor.text + ' Reais')\n",
    "\n",
    "    nova_barra = driver.find_element(By.XPATH, '//textarea[@name=\"q\"]')\n",
    "    nova_barra.clear()\n",
    "\n",
    "print(dados)"
   ]
  },
  {
   "attachments": {},
   "cell_type": "markdown",
   "metadata": {},
   "source": [
    "Armazenando os dados em um DataFrame:"
   ]
  },
  {
   "cell_type": "code",
   "execution_count": 4,
   "metadata": {},
   "outputs": [
    {
     "name": "stdout",
     "output_type": "stream",
     "text": [
      "Cotação atual das principais moedas:\n",
      "dolar               4,93 Reais\n",
      "euro                5,28 Reais\n",
      "libra esterlina     6,13 Reais\n",
      "iene               0,035 Reais\n",
      "franco suiço        5,44 Reais\n",
      "dolar canadense     3,67 Reais\n",
      "yuan                0,69 Reais\n",
      "dtype: object\n"
     ]
    }
   ],
   "source": [
    "df = pd.Series(data=dados, index=moedas)\n",
    "\n",
    "print('Cotação atual das principais moedas:')\n",
    "print(df)"
   ]
  },
  {
   "attachments": {},
   "cell_type": "markdown",
   "metadata": {},
   "source": [
    "Transformando o DataFrame em um arquivo CSV:"
   ]
  },
  {
   "cell_type": "code",
   "execution_count": 5,
   "metadata": {},
   "outputs": [],
   "source": [
    "df.to_csv('Cotação atual das principais moedas')"
   ]
  },
  {
   "attachments": {},
   "cell_type": "markdown",
   "metadata": {},
   "source": [
    "Através das etapas obtemos o valor atual de diversas moedas em relação ao Real utilizando as bibliotecas citadas e armazenamos os dados obtidos em um arquivo CSV, concluíndo assim o objetivo do projeto."
   ]
  }
 ],
 "metadata": {
  "kernelspec": {
   "display_name": "Python 3",
   "language": "python",
   "name": "python3"
  },
  "language_info": {
   "codemirror_mode": {
    "name": "ipython",
    "version": 3
   },
   "file_extension": ".py",
   "mimetype": "text/x-python",
   "name": "python",
   "nbconvert_exporter": "python",
   "pygments_lexer": "ipython3",
   "version": "3.10.4"
  },
  "orig_nbformat": 4
 },
 "nbformat": 4,
 "nbformat_minor": 2
}
