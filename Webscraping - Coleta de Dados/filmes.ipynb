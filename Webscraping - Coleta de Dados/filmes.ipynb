{
 "cells": [
  {
   "attachments": {},
   "cell_type": "markdown",
   "metadata": {},
   "source": [
    "O seguinte Código realiza um Webscraping de filmes em um site de avaliações, gerando um dataset com os filmes mais bem avaliados de diversos gêneros. Por fim, fazendo um sorteio de filmes neste dataset filtrado por gênero."
   ]
  },
  {
   "cell_type": "markdown",
   "metadata": {},
   "source": [
    "Bibliotecas:"
   ]
  },
  {
   "cell_type": "code",
   "execution_count": 1,
   "metadata": {},
   "outputs": [],
   "source": [
    "import pandas as pd\n",
    "import random\n",
    "from bs4 import BeautifulSoup\n",
    "import requests\n",
    "from csv import writer"
   ]
  },
  {
   "cell_type": "markdown",
   "metadata": {},
   "source": [
    "URL dos principais gêneros:"
   ]
  },
  {
   "cell_type": "code",
   "execution_count": 2,
   "metadata": {},
   "outputs": [],
   "source": [
    "url_ação = 'https://www.imdb.com/search/title/?genres=action&sort=user_rating,desc&title_type=feature&num_votes=25000,&pf_rd_m=A2FGELUUNOQJNL&pf_rd_p=5aab685f-35eb-40f3-95f7-c53f09d542c3&pf_rd_r=E76QSXP2Y9EEHKBVZRNZ&pf_rd_s=right-6&pf_rd_t=15506&pf_rd_i=top&ref_=chttp_gnr_1'\n",
    "url_aven = 'https://www.imdb.com/search/title/?genres=adventure&sort=user_rating,desc&title_type=feature&num_votes=25000,&pf_rd_m=A2FGELUUNOQJNL&pf_rd_p=5aab685f-35eb-40f3-95f7-c53f09d542c3&pf_rd_r=E76QSXP2Y9EEHKBVZRNZ&pf_rd_s=right-6&pf_rd_t=15506&pf_rd_i=top&ref_=chttp_gnr_2'\n",
    "url_anim = 'https://www.imdb.com/search/title/?genres=animation&sort=user_rating,desc&title_type=feature&num_votes=25000,&pf_rd_m=A2FGELUUNOQJNL&pf_rd_p=5aab685f-35eb-40f3-95f7-c53f09d542c3&pf_rd_r=E76QSXP2Y9EEHKBVZRNZ&pf_rd_s=right-6&pf_rd_t=15506&pf_rd_i=top&ref_=chttp_gnr_3'\n",
    "url_come = 'https://www.imdb.com/search/title/?genres=comedy&sort=user_rating,desc&title_type=feature&num_votes=25000,&pf_rd_m=A2FGELUUNOQJNL&pf_rd_p=5aab685f-35eb-40f3-95f7-c53f09d542c3&pf_rd_r=E76QSXP2Y9EEHKBVZRNZ&pf_rd_s=right-6&pf_rd_t=15506&pf_rd_i=top&ref_=chttp_gnr_5'\n",
    "url_dram = 'https://www.imdb.com/search/title/?genres=drama&sort=user_rating,desc&title_type=feature&num_votes=25000,&pf_rd_m=A2FGELUUNOQJNL&pf_rd_p=5aab685f-35eb-40f3-95f7-c53f09d542c3&pf_rd_r=E76QSXP2Y9EEHKBVZRNZ&pf_rd_s=right-6&pf_rd_t=15506&pf_rd_i=top&ref_=chttp_gnr_7'\n",
    "url_fant = 'https://www.imdb.com/search/title/?genres=fantasy&sort=user_rating,desc&title_type=feature&num_votes=25000,&pf_rd_m=A2FGELUUNOQJNL&pf_rd_p=5aab685f-35eb-40f3-95f7-c53f09d542c3&pf_rd_r=E76QSXP2Y9EEHKBVZRNZ&pf_rd_s=right-6&pf_rd_t=15506&pf_rd_i=top&ref_=chttp_gnr_9'\n",
    "url_horr = 'https://www.imdb.com/search/title/?genres=horror&sort=user_rating,desc&title_type=feature&num_votes=25000,&pf_rd_m=A2FGELUUNOQJNL&pf_rd_p=5aab685f-35eb-40f3-95f7-c53f09d542c3&pf_rd_r=E76QSXP2Y9EEHKBVZRNZ&pf_rd_s=right-6&pf_rd_t=15506&pf_rd_i=top&ref_=chttp_gnr_12'\n",
    "url_roma = 'https://www.imdb.com/search/title/?genres=romance&sort=user_rating,desc&title_type=feature&num_votes=25000,&pf_rd_m=A2FGELUUNOQJNL&pf_rd_p=5aab685f-35eb-40f3-95f7-c53f09d542c3&pf_rd_r=E76QSXP2Y9EEHKBVZRNZ&pf_rd_s=right-6&pf_rd_t=15506&pf_rd_i=top&ref_=chttp_gnr_16'\n",
    "url_scif = 'https://www.imdb.com/search/title/?genres=sci_fi&sort=user_rating,desc&title_type=feature&num_votes=25000,&pf_rd_m=A2FGELUUNOQJNL&pf_rd_p=5aab685f-35eb-40f3-95f7-c53f09d542c3&pf_rd_r=E76QSXP2Y9EEHKBVZRNZ&pf_rd_s=right-6&pf_rd_t=15506&pf_rd_i=top&ref_=chttp_gnr_17'\n",
    "url_thri = 'https://www.imdb.com/search/title/?genres=thriller&sort=user_rating,desc&title_type=feature&num_votes=25000,&pf_rd_m=A2FGELUUNOQJNL&pf_rd_p=5aab685f-35eb-40f3-95f7-c53f09d542c3&pf_rd_r=E76QSXP2Y9EEHKBVZRNZ&pf_rd_s=right-6&pf_rd_t=15506&pf_rd_i=top&ref_=chttp_gnr_19'\n",
    "\n",
    "urls = [url_ação, url_aven, url_anim, url_come, url_dram, url_fant, url_horr, url_roma, url_scif, url_thri]"
   ]
  },
  {
   "cell_type": "markdown",
   "metadata": {},
   "source": [
    "Gerando uma tabela com os filmes:"
   ]
  },
  {
   "cell_type": "code",
   "execution_count": 3,
   "metadata": {},
   "outputs": [],
   "source": [
    "with open('filmes.csv', 'w', encoding='utf8', newline='') as f:\n",
    "    thewriter = writer(f)\n",
    "    header = ['Título', 'Ano', 'Duração', 'Gênero', 'Nota IMDb']\n",
    "    thewriter.writerow(header)\n",
    "\n",
    "    for j in urls:   \n",
    "        page = requests.get(j)\n",
    "        soup = BeautifulSoup(page.content, 'html.parser')\n",
    "        list = soup.find_all('div', class_='lister-item-content')\n",
    "\n",
    "        for i in list:    \n",
    "            título = i.find('a').text.replace('\\n', '')\n",
    "            ano = i.find('span', class_='lister-item-year text-muted unbold').text.replace('\\n', '')\n",
    "            duração = i.find('span', class_='runtime').text.replace('\\n', '')\n",
    "            gênero = i.find('span', class_='genre').text.replace('\\n', '').strip()\n",
    "            nota = i.find('div', class_='inline-block ratings-imdb-rating').text.replace('\\n', '')\n",
    "\n",
    "            info = [título, ano, duração, gênero, nota]\n",
    "            thewriter.writerow(info)"
   ]
  },
  {
   "cell_type": "markdown",
   "metadata": {},
   "source": [
    "Preparando o dataset:"
   ]
  },
  {
   "cell_type": "code",
   "execution_count": 4,
   "metadata": {},
   "outputs": [
    {
     "data": {
      "text/html": [
       "<div>\n",
       "<style scoped>\n",
       "    .dataframe tbody tr th:only-of-type {\n",
       "        vertical-align: middle;\n",
       "    }\n",
       "\n",
       "    .dataframe tbody tr th {\n",
       "        vertical-align: top;\n",
       "    }\n",
       "\n",
       "    .dataframe thead th {\n",
       "        text-align: right;\n",
       "    }\n",
       "</style>\n",
       "<table border=\"1\" class=\"dataframe\">\n",
       "  <thead>\n",
       "    <tr style=\"text-align: right;\">\n",
       "      <th></th>\n",
       "      <th>Título</th>\n",
       "      <th>Ano</th>\n",
       "      <th>Duração</th>\n",
       "      <th>Gênero</th>\n",
       "      <th>Nota IMDb</th>\n",
       "    </tr>\n",
       "  </thead>\n",
       "  <tbody>\n",
       "    <tr>\n",
       "      <th>0</th>\n",
       "      <td>Homem-Aranha: Através do Aranhaverso</td>\n",
       "      <td>(2023)</td>\n",
       "      <td>140 min</td>\n",
       "      <td>Animation, Action, Adventure</td>\n",
       "      <td>9.1</td>\n",
       "    </tr>\n",
       "    <tr>\n",
       "      <th>1</th>\n",
       "      <td>Batman: O Cavaleiro das Trevas</td>\n",
       "      <td>(2008)</td>\n",
       "      <td>152 min</td>\n",
       "      <td>Action, Crime, Drama</td>\n",
       "      <td>9.0</td>\n",
       "    </tr>\n",
       "    <tr>\n",
       "      <th>2</th>\n",
       "      <td>O Senhor dos Anéis: O Retorno do Rei</td>\n",
       "      <td>(2003)</td>\n",
       "      <td>201 min</td>\n",
       "      <td>Action, Adventure, Drama</td>\n",
       "      <td>9.0</td>\n",
       "    </tr>\n",
       "    <tr>\n",
       "      <th>3</th>\n",
       "      <td>A Origem</td>\n",
       "      <td>(2010)</td>\n",
       "      <td>148 min</td>\n",
       "      <td>Action, Adventure, Sci-Fi</td>\n",
       "      <td>8.8</td>\n",
       "    </tr>\n",
       "    <tr>\n",
       "      <th>4</th>\n",
       "      <td>O Senhor dos Anéis: A Sociedade do Anel</td>\n",
       "      <td>(2001)</td>\n",
       "      <td>178 min</td>\n",
       "      <td>Action, Adventure, Drama</td>\n",
       "      <td>8.8</td>\n",
       "    </tr>\n",
       "  </tbody>\n",
       "</table>\n",
       "</div>"
      ],
      "text/plain": [
       "                                    Título     Ano  Duração  \\\n",
       "0     Homem-Aranha: Através do Aranhaverso  (2023)  140 min   \n",
       "1           Batman: O Cavaleiro das Trevas  (2008)  152 min   \n",
       "2     O Senhor dos Anéis: O Retorno do Rei  (2003)  201 min   \n",
       "3                                 A Origem  (2010)  148 min   \n",
       "4  O Senhor dos Anéis: A Sociedade do Anel  (2001)  178 min   \n",
       "\n",
       "                         Gênero  Nota IMDb  \n",
       "0  Animation, Action, Adventure        9.1  \n",
       "1          Action, Crime, Drama        9.0  \n",
       "2      Action, Adventure, Drama        9.0  \n",
       "3     Action, Adventure, Sci-Fi        8.8  \n",
       "4      Action, Adventure, Drama        8.8  "
      ]
     },
     "execution_count": 4,
     "metadata": {},
     "output_type": "execute_result"
    }
   ],
   "source": [
    "df = pd.read_csv('filmes.csv')\n",
    "df.drop_duplicates(inplace=True)\n",
    "df.head()"
   ]
  },
  {
   "cell_type": "markdown",
   "metadata": {},
   "source": [
    "Recomendando filmes com do gênero desejado:"
   ]
  },
  {
   "cell_type": "code",
   "execution_count": 5,
   "metadata": {},
   "outputs": [
    {
     "name": "stdout",
     "output_type": "stream",
     "text": [
      "Gênero desejado (em inglês):\n"
     ]
    },
    {
     "data": {
      "text/html": [
       "<div>\n",
       "<style scoped>\n",
       "    .dataframe tbody tr th:only-of-type {\n",
       "        vertical-align: middle;\n",
       "    }\n",
       "\n",
       "    .dataframe tbody tr th {\n",
       "        vertical-align: top;\n",
       "    }\n",
       "\n",
       "    .dataframe thead th {\n",
       "        text-align: right;\n",
       "    }\n",
       "</style>\n",
       "<table border=\"1\" class=\"dataframe\">\n",
       "  <thead>\n",
       "    <tr style=\"text-align: right;\">\n",
       "      <th></th>\n",
       "      <th>Título</th>\n",
       "      <th>Ano</th>\n",
       "      <th>Duração</th>\n",
       "      <th>Gênero</th>\n",
       "      <th>Nota IMDb</th>\n",
       "    </tr>\n",
       "  </thead>\n",
       "  <tbody>\n",
       "    <tr>\n",
       "      <th>44</th>\n",
       "      <td>V de Vingança</td>\n",
       "      <td>(2005)</td>\n",
       "      <td>132 min</td>\n",
       "      <td>Action, Drama, Sci-Fi</td>\n",
       "      <td>8.2</td>\n",
       "    </tr>\n",
       "    <tr>\n",
       "      <th>404</th>\n",
       "      <td>Star Wars: Episode V - The Empire Strikes Back</td>\n",
       "      <td>(1980)</td>\n",
       "      <td>124 min</td>\n",
       "      <td>Action, Adventure, Fantasy</td>\n",
       "      <td>8.7</td>\n",
       "    </tr>\n",
       "    <tr>\n",
       "      <th>3</th>\n",
       "      <td>A Origem</td>\n",
       "      <td>(2010)</td>\n",
       "      <td>148 min</td>\n",
       "      <td>Action, Adventure, Sci-Fi</td>\n",
       "      <td>8.8</td>\n",
       "    </tr>\n",
       "    <tr>\n",
       "      <th>426</th>\n",
       "      <td>Blade Runner</td>\n",
       "      <td>(1982)</td>\n",
       "      <td>117 min</td>\n",
       "      <td>Action, Drama, Sci-Fi</td>\n",
       "      <td>8.1</td>\n",
       "    </tr>\n",
       "  </tbody>\n",
       "</table>\n",
       "</div>"
      ],
      "text/plain": [
       "                                             Título     Ano  Duração  \\\n",
       "44                                    V de Vingança  (2005)  132 min   \n",
       "404  Star Wars: Episode V - The Empire Strikes Back  (1980)  124 min   \n",
       "3                                          A Origem  (2010)  148 min   \n",
       "426                                    Blade Runner  (1982)  117 min   \n",
       "\n",
       "                         Gênero  Nota IMDb  \n",
       "44        Action, Drama, Sci-Fi        8.2  \n",
       "404  Action, Adventure, Fantasy        8.7  \n",
       "3     Action, Adventure, Sci-Fi        8.8  \n",
       "426       Action, Drama, Sci-Fi        8.1  "
      ]
     },
     "execution_count": 5,
     "metadata": {},
     "output_type": "execute_result"
    }
   ],
   "source": [
    "Gêneros = ['Action', 'Adventure', 'Animation', 'Comedy', 'Drama', 'Fantasy', 'Horror', 'Romance', 'Sci-Fi', 'Thriller']\n",
    "\n",
    "g = input(print('Gênero desejado (em inglês):'))\n",
    "\n",
    "df2 = df[df['Gênero'].str.contains(g)]\n",
    "df2.sample(4)"
   ]
  }
 ],
 "metadata": {
  "kernelspec": {
   "display_name": "Python 3.10.4 64-bit",
   "language": "python",
   "name": "python3"
  },
  "language_info": {
   "codemirror_mode": {
    "name": "ipython",
    "version": 3
   },
   "file_extension": ".py",
   "mimetype": "text/x-python",
   "name": "python",
   "nbconvert_exporter": "python",
   "pygments_lexer": "ipython3",
   "version": "3.10.4"
  },
  "orig_nbformat": 4,
  "vscode": {
   "interpreter": {
    "hash": "fb071969cc081d156db4658a52cc12ff3302089485c0c8cb524fcf02c6362775"
   }
  }
 },
 "nbformat": 4,
 "nbformat_minor": 2
}
